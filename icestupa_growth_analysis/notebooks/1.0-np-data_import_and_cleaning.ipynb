{
 "cells": [
  {
   "cell_type": "code",
   "execution_count": 1,
   "metadata": {
    "collapsed": false
   },
   "outputs": [],
   "source": [
    "# -*- coding: utf-8 -*-\n",
    "from __future__ import print_function\n",
    "from __future__ import division\n",
    "import datetime\n",
    "\n",
    "%load_ext autoreload\n",
    "%autoreload 2\n",
    "\n",
    "%matplotlib inline"
   ]
  },
  {
   "cell_type": "code",
   "execution_count": 2,
   "metadata": {
    "collapsed": true
   },
   "outputs": [],
   "source": [
    "import pandas as pd\n",
    "import numpy as np"
   ]
  },
  {
   "cell_type": "markdown",
   "metadata": {},
   "source": [
    "## Data import and cleaning"
   ]
  },
  {
   "cell_type": "markdown",
   "metadata": {},
   "source": [
    "#### Visually measured height"
   ]
  },
  {
   "cell_type": "code",
   "execution_count": 3,
   "metadata": {
    "collapsed": false
   },
   "outputs": [
    {
     "data": {
      "text/html": [
       "<div>\n",
       "<table border=\"1\" class=\"dataframe\">\n",
       "  <thead>\n",
       "    <tr style=\"text-align: right;\">\n",
       "      <th></th>\n",
       "      <th>Date &amp; Time</th>\n",
       "      <th>Height in feet</th>\n",
       "    </tr>\n",
       "  </thead>\n",
       "  <tbody>\n",
       "    <tr>\n",
       "      <th>0</th>\n",
       "      <td>2015-12-16</td>\n",
       "      <td>7</td>\n",
       "    </tr>\n",
       "    <tr>\n",
       "      <th>1</th>\n",
       "      <td>2015-12-19</td>\n",
       "      <td>Water stops</td>\n",
       "    </tr>\n",
       "    <tr>\n",
       "      <th>2</th>\n",
       "      <td>2015-12-21</td>\n",
       "      <td>8</td>\n",
       "    </tr>\n",
       "    <tr>\n",
       "      <th>3</th>\n",
       "      <td>2015-12-31</td>\n",
       "      <td>10</td>\n",
       "    </tr>\n",
       "    <tr>\n",
       "      <th>4</th>\n",
       "      <td>2016-01-18</td>\n",
       "      <td>12</td>\n",
       "    </tr>\n",
       "    <tr>\n",
       "      <th>5</th>\n",
       "      <td>2016-03-01</td>\n",
       "      <td>Water starts</td>\n",
       "    </tr>\n",
       "    <tr>\n",
       "      <th>6</th>\n",
       "      <td>2016-03-09</td>\n",
       "      <td>30</td>\n",
       "    </tr>\n",
       "    <tr>\n",
       "      <th>7</th>\n",
       "      <td>2016-03-22</td>\n",
       "      <td>58</td>\n",
       "    </tr>\n",
       "    <tr>\n",
       "      <th>8</th>\n",
       "      <td>2016-03-25</td>\n",
       "      <td>56</td>\n",
       "    </tr>\n",
       "    <tr>\n",
       "      <th>9</th>\n",
       "      <td>2016-03-31</td>\n",
       "      <td>42</td>\n",
       "    </tr>\n",
       "  </tbody>\n",
       "</table>\n",
       "</div>"
      ],
      "text/plain": [
       "  Date & Time Height in feet\n",
       "0  2015-12-16              7\n",
       "1  2015-12-19    Water stops\n",
       "2  2015-12-21              8\n",
       "3  2015-12-31             10\n",
       "4  2016-01-18             12\n",
       "5  2016-03-01   Water starts\n",
       "6  2016-03-09             30\n",
       "7  2016-03-22             58\n",
       "8  2016-03-25             56\n",
       "9  2016-03-31             42"
      ]
     },
     "execution_count": 3,
     "metadata": {},
     "output_type": "execute_result"
    }
   ],
   "source": [
    "dfheight_measured = pd.read_csv('../data/interim/Height_measured.csv', parse_dates=['Date & Time'])\n",
    "dfheight_measured"
   ]
  },
  {
   "cell_type": "markdown",
   "metadata": {},
   "source": [
    "#### Height measured from pictures"
   ]
  },
  {
   "cell_type": "code",
   "execution_count": 4,
   "metadata": {
    "collapsed": false
   },
   "outputs": [
    {
     "data": {
      "text/html": [
       "<div>\n",
       "<table border=\"1\" class=\"dataframe\">\n",
       "  <thead>\n",
       "    <tr style=\"text-align: right;\">\n",
       "      <th></th>\n",
       "      <th>height_pixels</th>\n",
       "      <th>picture_file</th>\n",
       "    </tr>\n",
       "    <tr>\n",
       "      <th></th>\n",
       "      <th></th>\n",
       "      <th></th>\n",
       "    </tr>\n",
       "  </thead>\n",
       "  <tbody>\n",
       "    <tr>\n",
       "      <th>1</th>\n",
       "      <td>113.667</td>\n",
       "      <td>5.jpg</td>\n",
       "    </tr>\n",
       "    <tr>\n",
       "      <th>2</th>\n",
       "      <td>115.333</td>\n",
       "      <td>6.jpg</td>\n",
       "    </tr>\n",
       "    <tr>\n",
       "      <th>3</th>\n",
       "      <td>116.000</td>\n",
       "      <td>7.jpg</td>\n",
       "    </tr>\n",
       "    <tr>\n",
       "      <th>4</th>\n",
       "      <td>117.000</td>\n",
       "      <td>8.jpg</td>\n",
       "    </tr>\n",
       "    <tr>\n",
       "      <th>5</th>\n",
       "      <td>117.667</td>\n",
       "      <td>9.jpg</td>\n",
       "    </tr>\n",
       "  </tbody>\n",
       "</table>\n",
       "</div>"
      ],
      "text/plain": [
       "   height_pixels picture_file\n",
       "                             \n",
       "1        113.667        5.jpg\n",
       "2        115.333        6.jpg\n",
       "3        116.000        7.jpg\n",
       "4        117.000        8.jpg\n",
       "5        117.667        9.jpg"
      ]
     },
     "execution_count": 4,
     "metadata": {},
     "output_type": "execute_result"
    }
   ],
   "source": [
    "dfheight = pd.read_csv('../data/interim/Height_from_pictures.csv', index_col=0)\n",
    "dfheight['picture_file'] = dfheight['Label'].apply(lambda x: x.replace('bloomsky images:', '')+'.jpg')\n",
    "del dfheight['Label']\n",
    "del dfheight['Angle'] # no trigonometric transformation needed\n",
    "#dfheight.set_index('picture_file', inplace=True)\n",
    "dfheight.rename(columns={'Length': 'height_pixels'}, inplace=True)\n",
    "dfheight.head()"
   ]
  },
  {
   "cell_type": "markdown",
   "metadata": {},
   "source": [
    "#### Bloomsky environmental variables"
   ]
  },
  {
   "cell_type": "code",
   "execution_count": 5,
   "metadata": {
    "collapsed": false
   },
   "outputs": [
    {
     "data": {
      "text/html": [
       "<div>\n",
       "<table border=\"1\" class=\"dataframe\">\n",
       "  <thead>\n",
       "    <tr style=\"text-align: right;\">\n",
       "      <th></th>\n",
       "      <th>time</th>\n",
       "      <th>temp</th>\n",
       "      <th>rh</th>\n",
       "      <th>UV Index</th>\n",
       "      <th>pressure</th>\n",
       "      <th>picture_file</th>\n",
       "    </tr>\n",
       "  </thead>\n",
       "  <tbody>\n",
       "    <tr>\n",
       "      <th>0</th>\n",
       "      <td>2016-02-12 17:06:00</td>\n",
       "      <td>-0.60</td>\n",
       "      <td>26</td>\n",
       "      <td>1280</td>\n",
       "      <td>656.0</td>\n",
       "      <td>1.jpg</td>\n",
       "    </tr>\n",
       "    <tr>\n",
       "      <th>1</th>\n",
       "      <td>2016-02-13 07:53:00</td>\n",
       "      <td>-7.43</td>\n",
       "      <td>78</td>\n",
       "      <td>1273</td>\n",
       "      <td>659.0</td>\n",
       "      <td>2.jpg</td>\n",
       "    </tr>\n",
       "    <tr>\n",
       "      <th>2</th>\n",
       "      <td>2016-02-13 17:07:00</td>\n",
       "      <td>-2.21</td>\n",
       "      <td>30</td>\n",
       "      <td>1324</td>\n",
       "      <td>658.0</td>\n",
       "      <td>3.jpg</td>\n",
       "    </tr>\n",
       "    <tr>\n",
       "      <th>3</th>\n",
       "      <td>2016-02-14 17:05:00</td>\n",
       "      <td>1.25</td>\n",
       "      <td>10</td>\n",
       "      <td>1542</td>\n",
       "      <td>658.0</td>\n",
       "      <td>4.jpg</td>\n",
       "    </tr>\n",
       "    <tr>\n",
       "      <th>4</th>\n",
       "      <td>2016-02-16 07:54:00</td>\n",
       "      <td>-6.06</td>\n",
       "      <td>35</td>\n",
       "      <td>1277</td>\n",
       "      <td>665.0</td>\n",
       "      <td>5.jpg</td>\n",
       "    </tr>\n",
       "  </tbody>\n",
       "</table>\n",
       "</div>"
      ],
      "text/plain": [
       "                 time  temp  rh  UV Index  pressure picture_file\n",
       "0 2016-02-12 17:06:00 -0.60  26      1280     656.0        1.jpg\n",
       "1 2016-02-13 07:53:00 -7.43  78      1273     659.0        2.jpg\n",
       "2 2016-02-13 17:07:00 -2.21  30      1324     658.0        3.jpg\n",
       "3 2016-02-14 17:05:00  1.25  10      1542     658.0        4.jpg\n",
       "4 2016-02-16 07:54:00 -6.06  35      1277     665.0        5.jpg"
      ]
     },
     "execution_count": 5,
     "metadata": {},
     "output_type": "execute_result"
    }
   ],
   "source": [
    "dfbloomsky = pd.read_csv('../data/interim/Bloomsky_data.csv', parse_dates=['Time'])\n",
    "dfbloomsky.rename(columns={'Time': 'time',\n",
    "                           'Temperature(C)': 'temp',\n",
    "                           'RH': 'rh',\n",
    "                           'Pressure(mbar)': 'pressure',\n",
    "                           'Unnamed: 6': 'picture_file'}, inplace=True)\n",
    "dfbloomsky = dfbloomsky[[col for col in dfbloomsky.columns if not (col.startswith('Unnamed') or col.startswith('Image'))]]\n",
    "dfbloomsky['picture_file'] = dfbloomsky['picture_file'].apply(lambda x: x.split('/')[-1])\n",
    "dfbloomsky.head()"
   ]
  },
  {
   "cell_type": "markdown",
   "metadata": {},
   "source": [
    "#### Joining all data structures into one"
   ]
  },
  {
   "cell_type": "code",
   "execution_count": 6,
   "metadata": {
    "collapsed": false
   },
   "outputs": [
    {
     "data": {
      "text/html": [
       "<div>\n",
       "<table border=\"1\" class=\"dataframe\">\n",
       "  <thead>\n",
       "    <tr style=\"text-align: right;\">\n",
       "      <th></th>\n",
       "      <th>time</th>\n",
       "      <th>temp</th>\n",
       "      <th>rh</th>\n",
       "      <th>UV Index</th>\n",
       "      <th>pressure</th>\n",
       "      <th>picture_file</th>\n",
       "      <th>height_pixels</th>\n",
       "    </tr>\n",
       "  </thead>\n",
       "  <tbody>\n",
       "    <tr>\n",
       "      <th>0</th>\n",
       "      <td>2016-02-16 07:54:00</td>\n",
       "      <td>-6.06</td>\n",
       "      <td>35</td>\n",
       "      <td>1277</td>\n",
       "      <td>665.0</td>\n",
       "      <td>5.jpg</td>\n",
       "      <td>113.667</td>\n",
       "    </tr>\n",
       "    <tr>\n",
       "      <th>1</th>\n",
       "      <td>2016-02-16 17:04:00</td>\n",
       "      <td>0.74</td>\n",
       "      <td>16</td>\n",
       "      <td>1308</td>\n",
       "      <td>663.0</td>\n",
       "      <td>6.jpg</td>\n",
       "      <td>115.333</td>\n",
       "    </tr>\n",
       "    <tr>\n",
       "      <th>2</th>\n",
       "      <td>2016-02-18 17:07:00</td>\n",
       "      <td>7.56</td>\n",
       "      <td>4</td>\n",
       "      <td>1488</td>\n",
       "      <td>665.0</td>\n",
       "      <td>7.jpg</td>\n",
       "      <td>116.000</td>\n",
       "    </tr>\n",
       "    <tr>\n",
       "      <th>3</th>\n",
       "      <td>2016-02-19 07:56:00</td>\n",
       "      <td>-4.87</td>\n",
       "      <td>20</td>\n",
       "      <td>1307</td>\n",
       "      <td>669.0</td>\n",
       "      <td>8.jpg</td>\n",
       "      <td>117.000</td>\n",
       "    </tr>\n",
       "    <tr>\n",
       "      <th>4</th>\n",
       "      <td>2016-02-19 17:06:00</td>\n",
       "      <td>0.00</td>\n",
       "      <td>62</td>\n",
       "      <td>1285</td>\n",
       "      <td>666.0</td>\n",
       "      <td>9.jpg</td>\n",
       "      <td>117.667</td>\n",
       "    </tr>\n",
       "  </tbody>\n",
       "</table>\n",
       "</div>"
      ],
      "text/plain": [
       "                 time  temp  rh  UV Index  pressure picture_file  \\\n",
       "0 2016-02-16 07:54:00 -6.06  35      1277     665.0        5.jpg   \n",
       "1 2016-02-16 17:04:00  0.74  16      1308     663.0        6.jpg   \n",
       "2 2016-02-18 17:07:00  7.56   4      1488     665.0        7.jpg   \n",
       "3 2016-02-19 07:56:00 -4.87  20      1307     669.0        8.jpg   \n",
       "4 2016-02-19 17:06:00  0.00  62      1285     666.0        9.jpg   \n",
       "\n",
       "   height_pixels  \n",
       "0        113.667  \n",
       "1        115.333  \n",
       "2        116.000  \n",
       "3        117.000  \n",
       "4        117.667  "
      ]
     },
     "execution_count": 6,
     "metadata": {},
     "output_type": "execute_result"
    }
   ],
   "source": [
    "df = pd.merge(dfbloomsky, dfheight, on='picture_file')\n",
    "# equivalent to inner join: records with no corresponding pixel height will be deleted\n",
    "df.sort_values('time', inplace=True)\n",
    "df.head()"
   ]
  },
  {
   "cell_type": "markdown",
   "metadata": {},
   "source": [
    "Introducing date field in order to join DataFrame with feet measurements"
   ]
  },
  {
   "cell_type": "code",
   "execution_count": 7,
   "metadata": {
    "collapsed": false
   },
   "outputs": [],
   "source": [
    "df['date'] = df['time'].apply(lambda x: str(x.date()))"
   ]
  },
  {
   "cell_type": "code",
   "execution_count": 8,
   "metadata": {
    "collapsed": false
   },
   "outputs": [
    {
     "data": {
      "text/html": [
       "<div>\n",
       "<table border=\"1\" class=\"dataframe\">\n",
       "  <thead>\n",
       "    <tr style=\"text-align: right;\">\n",
       "      <th></th>\n",
       "      <th>date</th>\n",
       "      <th>height_meters</th>\n",
       "    </tr>\n",
       "  </thead>\n",
       "  <tbody>\n",
       "    <tr>\n",
       "      <th>0</th>\n",
       "      <td>2015-12-16</td>\n",
       "      <td>2.1336</td>\n",
       "    </tr>\n",
       "    <tr>\n",
       "      <th>2</th>\n",
       "      <td>2015-12-21</td>\n",
       "      <td>2.4384</td>\n",
       "    </tr>\n",
       "    <tr>\n",
       "      <th>3</th>\n",
       "      <td>2015-12-31</td>\n",
       "      <td>3.0480</td>\n",
       "    </tr>\n",
       "    <tr>\n",
       "      <th>4</th>\n",
       "      <td>2016-01-18</td>\n",
       "      <td>3.6576</td>\n",
       "    </tr>\n",
       "    <tr>\n",
       "      <th>6</th>\n",
       "      <td>2016-03-09</td>\n",
       "      <td>9.1440</td>\n",
       "    </tr>\n",
       "  </tbody>\n",
       "</table>\n",
       "</div>"
      ],
      "text/plain": [
       "         date  height_meters\n",
       "0  2015-12-16         2.1336\n",
       "2  2015-12-21         2.4384\n",
       "3  2015-12-31         3.0480\n",
       "4  2016-01-18         3.6576\n",
       "6  2016-03-09         9.1440"
      ]
     },
     "execution_count": 8,
     "metadata": {},
     "output_type": "execute_result"
    }
   ],
   "source": [
    "dfhm = dfheight_measured.rename(columns={'Date & Time': 'date', 'Height in feet': 'height_feet'})\n",
    "dfhm = dfhm[(dfhm['height_feet']).str.isdigit()]\n",
    "dfhm['date'] = dfhm['date'].apply(lambda x: str(x.date()))\n",
    "dfhm['height_meters'] = dfhm['height_feet'].apply(lambda x: float(x)*0.3048)\n",
    "del dfhm['height_feet']\n",
    "dfhm.head()"
   ]
  },
  {
   "cell_type": "code",
   "execution_count": 9,
   "metadata": {
    "collapsed": false
   },
   "outputs": [
    {
     "data": {
      "text/html": [
       "<div>\n",
       "<table border=\"1\" class=\"dataframe\">\n",
       "  <thead>\n",
       "    <tr style=\"text-align: right;\">\n",
       "      <th></th>\n",
       "      <th>time</th>\n",
       "      <th>temp</th>\n",
       "      <th>rh</th>\n",
       "      <th>UV Index</th>\n",
       "      <th>pressure</th>\n",
       "      <th>picture_file</th>\n",
       "      <th>height_pixels</th>\n",
       "      <th>date</th>\n",
       "      <th>height_meters</th>\n",
       "    </tr>\n",
       "  </thead>\n",
       "  <tbody>\n",
       "    <tr>\n",
       "      <th>29</th>\n",
       "      <td>2016-03-09 07:54:00</td>\n",
       "      <td>-0.14</td>\n",
       "      <td>34</td>\n",
       "      <td>1313</td>\n",
       "      <td>665.0</td>\n",
       "      <td>35.jpg</td>\n",
       "      <td>159.667</td>\n",
       "      <td>2016-03-09</td>\n",
       "      <td>9.144</td>\n",
       "    </tr>\n",
       "    <tr>\n",
       "      <th>30</th>\n",
       "      <td>2016-03-09 17:05:00</td>\n",
       "      <td>8.59</td>\n",
       "      <td>11</td>\n",
       "      <td>1366</td>\n",
       "      <td>661.0</td>\n",
       "      <td>34.jpg</td>\n",
       "      <td>157.000</td>\n",
       "      <td>2016-03-09</td>\n",
       "      <td>9.144</td>\n",
       "    </tr>\n",
       "  </tbody>\n",
       "</table>\n",
       "</div>"
      ],
      "text/plain": [
       "                  time  temp  rh  UV Index  pressure picture_file  \\\n",
       "29 2016-03-09 07:54:00 -0.14  34      1313     665.0       35.jpg   \n",
       "30 2016-03-09 17:05:00  8.59  11      1366     661.0       34.jpg   \n",
       "\n",
       "    height_pixels        date  height_meters  \n",
       "29        159.667  2016-03-09          9.144  \n",
       "30        157.000  2016-03-09          9.144  "
      ]
     },
     "execution_count": 9,
     "metadata": {},
     "output_type": "execute_result"
    }
   ],
   "source": [
    "df = pd.merge(df, dfhm, on='date', how='left')\n",
    "df[pd.isnull(df['height_meters'])==False]"
   ]
  },
  {
   "cell_type": "code",
   "execution_count": 10,
   "metadata": {
    "collapsed": false
   },
   "outputs": [
    {
     "name": "stdout",
     "output_type": "stream",
     "text": [
      "One metre corresponds to 17.31 pixels in the Bloomsky images\n"
     ]
    }
   ],
   "source": [
    "conv_ratio = (df['height_meters']/df['height_pixels']).dropna().mean()\n",
    "print('One metre corresponds to %0.2f pixels in the Bloomsky images' % (1.0/conv_ratio))"
   ]
  },
  {
   "cell_type": "code",
   "execution_count": 11,
   "metadata": {
    "collapsed": true
   },
   "outputs": [],
   "source": [
    "df['height_meters'] = df['height_pixels'].apply(lambda x: x*conv_ratio)\n",
    "del df['date'], df['height_pixels']"
   ]
  },
  {
   "cell_type": "markdown",
   "metadata": {},
   "source": [
    "#### Final processed data set"
   ]
  },
  {
   "cell_type": "code",
   "execution_count": 12,
   "metadata": {
    "collapsed": false
   },
   "outputs": [
    {
     "data": {
      "text/html": [
       "<div>\n",
       "<table border=\"1\" class=\"dataframe\">\n",
       "  <thead>\n",
       "    <tr style=\"text-align: right;\">\n",
       "      <th></th>\n",
       "      <th>time</th>\n",
       "      <th>temp</th>\n",
       "      <th>rh</th>\n",
       "      <th>UV Index</th>\n",
       "      <th>pressure</th>\n",
       "      <th>picture_file</th>\n",
       "      <th>height_meters</th>\n",
       "    </tr>\n",
       "  </thead>\n",
       "  <tbody>\n",
       "    <tr>\n",
       "      <th>0</th>\n",
       "      <td>2016-02-16 07:54:00</td>\n",
       "      <td>-6.06</td>\n",
       "      <td>35</td>\n",
       "      <td>1277</td>\n",
       "      <td>665.0</td>\n",
       "      <td>5.jpg</td>\n",
       "      <td>6.564907</td>\n",
       "    </tr>\n",
       "    <tr>\n",
       "      <th>1</th>\n",
       "      <td>2016-02-16 17:04:00</td>\n",
       "      <td>0.74</td>\n",
       "      <td>16</td>\n",
       "      <td>1308</td>\n",
       "      <td>663.0</td>\n",
       "      <td>6.jpg</td>\n",
       "      <td>6.661128</td>\n",
       "    </tr>\n",
       "    <tr>\n",
       "      <th>2</th>\n",
       "      <td>2016-02-18 17:07:00</td>\n",
       "      <td>7.56</td>\n",
       "      <td>4</td>\n",
       "      <td>1488</td>\n",
       "      <td>665.0</td>\n",
       "      <td>7.jpg</td>\n",
       "      <td>6.699651</td>\n",
       "    </tr>\n",
       "    <tr>\n",
       "      <th>3</th>\n",
       "      <td>2016-02-19 07:56:00</td>\n",
       "      <td>-4.87</td>\n",
       "      <td>20</td>\n",
       "      <td>1307</td>\n",
       "      <td>669.0</td>\n",
       "      <td>8.jpg</td>\n",
       "      <td>6.757407</td>\n",
       "    </tr>\n",
       "    <tr>\n",
       "      <th>4</th>\n",
       "      <td>2016-02-19 17:06:00</td>\n",
       "      <td>0.00</td>\n",
       "      <td>62</td>\n",
       "      <td>1285</td>\n",
       "      <td>666.0</td>\n",
       "      <td>9.jpg</td>\n",
       "      <td>6.795930</td>\n",
       "    </tr>\n",
       "  </tbody>\n",
       "</table>\n",
       "</div>"
      ],
      "text/plain": [
       "                 time  temp  rh  UV Index  pressure picture_file  \\\n",
       "0 2016-02-16 07:54:00 -6.06  35      1277     665.0        5.jpg   \n",
       "1 2016-02-16 17:04:00  0.74  16      1308     663.0        6.jpg   \n",
       "2 2016-02-18 17:07:00  7.56   4      1488     665.0        7.jpg   \n",
       "3 2016-02-19 07:56:00 -4.87  20      1307     669.0        8.jpg   \n",
       "4 2016-02-19 17:06:00  0.00  62      1285     666.0        9.jpg   \n",
       "\n",
       "   height_meters  \n",
       "0       6.564907  \n",
       "1       6.661128  \n",
       "2       6.699651  \n",
       "3       6.757407  \n",
       "4       6.795930  "
      ]
     },
     "execution_count": 12,
     "metadata": {},
     "output_type": "execute_result"
    }
   ],
   "source": [
    "df.head()"
   ]
  },
  {
   "cell_type": "code",
   "execution_count": 13,
   "metadata": {
    "collapsed": false
   },
   "outputs": [
    {
     "data": {
      "image/png": "[encoded data removed]",
      "text/plain": [
       "<matplotlib.figure.Figure at 0x10ea447d0>"
      ]
     },
     "metadata": {},
     "output_type": "display_data"
    }
   ],
   "source": [
    "df[['time', 'height_meters']].set_index('time').plot(figsize=(12,8), grid=True);"
   ]
  },
  {
   "cell_type": "markdown",
   "metadata": {},
   "source": [
    "Exporting data to CSV file"
   ]
  },
  {
   "cell_type": "code",
   "execution_count": 14,
   "metadata": {
    "collapsed": true
   },
   "outputs": [],
   "source": [
    "df.to_csv('../data/processed/icestupa_measurements.csv', index=False)"
   ]
  }
 ],
 "metadata": {
  "kernelspec": {
   "display_name": "Python 2",
   "language": "python",
   "name": "python2"
  },
  "language_info": {
   "codemirror_mode": {
    "name": "ipython",
    "version": 2
   },
   "file_extension": ".py",
   "mimetype": "text/x-python",
   "name": "python",
   "nbconvert_exporter": "python",
   "pygments_lexer": "ipython2",
   "version": "2.7.12"
  }
 },
 "nbformat": 4,
 "nbformat_minor": 0
}
